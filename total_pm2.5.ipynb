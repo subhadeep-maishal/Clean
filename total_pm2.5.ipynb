{
 "cells": [
  {
   "cell_type": "code",
   "execution_count": 3,
   "id": "981c3402",
   "metadata": {},
   "outputs": [
    {
     "name": "stdout",
     "output_type": "stream",
     "text": [
      "Total Surface Mass Concentration of PM2.5 saved to: C:\\Users\\Subhadeep Maishal\\Music\\JUP\\Breathe\\MERRA2_PM25_total.nc\n"
     ]
    }
   ],
   "source": [
    "from netCDF4 import Dataset\n",
    "\n",
    "# Path to your input NetCDF file\n",
    "input_file_path = r'C:\\Users\\Subhadeep Maishal\\Music\\JUP\\Breathe\\MERRA2.nc'\n",
    "\n",
    "# Path to save the new NetCDF file\n",
    "output_file_path = r'C:\\Users\\Subhadeep Maishal\\Music\\JUP\\Breathe\\MERRA2_PM25_total.nc'\n",
    "\n",
    "# Open the input NetCDF file\n",
    "with Dataset(input_file_path, 'r') as nc:\n",
    "    # Read variables from the file\n",
    "    BCSMASS = nc.variables['BCSMASS'][:]\n",
    "    OCSMASS = nc.variables['OCSMASS'][:]\n",
    "    SO4SMASS = nc.variables['SO4SMASS'][:]\n",
    "    DUSMASS25 = nc.variables['DUSMASS25'][:]\n",
    "    SSSMASS25 = nc.variables['SSSMASS25'][:]\n",
    "\n",
    "    # Perform the calculation\n",
    "    PM25_surface_mass_concentration = BCSMASS + OCSMASS + SO4SMASS * (132.14 / 96.06) + DUSMASS25 + SSSMASS25\n",
    "\n",
    "    # Create a new NetCDF file for saving the result\n",
    "    with Dataset(output_file_path, 'w') as output_nc:\n",
    "        # Create dimensions similar to input file\n",
    "        output_nc.createDimension('time', None)\n",
    "        output_nc.createDimension('lon', len(nc.dimensions['lon']))\n",
    "        output_nc.createDimension('lat', len(nc.dimensions['lat']))\n",
    "\n",
    "        # Create variables\n",
    "        time_var = output_nc.createVariable('time', nc.variables['time'].dtype, ('time',))\n",
    "        lon_var = output_nc.createVariable('lon', nc.variables['lon'].dtype, ('lon',))\n",
    "        lat_var = output_nc.createVariable('lat', nc.variables['lat'].dtype, ('lat',))\n",
    "        pm25_var = output_nc.createVariable('PM25_surface_mass_concentration', 'f4', ('time', 'lat', 'lon',))\n",
    "\n",
    "        # Copy variable attributes\n",
    "        lon_var.units = nc.variables['lon'].units\n",
    "        lon_var[:] = nc.variables['lon'][:]\n",
    "        lat_var.units = nc.variables['lat'].units\n",
    "        lat_var[:] = nc.variables['lat'][:]\n",
    "        time_var.units = nc.variables['time'].units\n",
    "        time_var[:] = nc.variables['time'][:]\n",
    "        pm25_var.units = \"kg m^-3\"\n",
    "        pm25_var.long_name = \"Total Surface Mass Concentration of PM2.5\"\n",
    "        pm25_var[:, :, :] = PM25_surface_mass_concentration\n",
    "\n",
    "    print(\"Total Surface Mass Concentration of PM2.5 saved to:\", output_file_path)\n"
   ]
  },
  {
   "cell_type": "code",
   "execution_count": null,
   "id": "4ef29d81",
   "metadata": {},
   "outputs": [],
   "source": []
  }
 ],
 "metadata": {
  "kernelspec": {
   "display_name": "Python 3 (ipykernel)",
   "language": "python",
   "name": "python3"
  },
  "language_info": {
   "codemirror_mode": {
    "name": "ipython",
    "version": 3
   },
   "file_extension": ".py",
   "mimetype": "text/x-python",
   "name": "python",
   "nbconvert_exporter": "python",
   "pygments_lexer": "ipython3",
   "version": "3.11.5"
  }
 },
 "nbformat": 4,
 "nbformat_minor": 5
}
